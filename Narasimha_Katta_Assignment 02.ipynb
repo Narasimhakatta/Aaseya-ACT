{
 "cells": [
  {
   "cell_type": "code",
   "execution_count": 2,
   "id": "a24f4e70-4f51-4118-81f9-0b86197387c3",
   "metadata": {},
   "outputs": [
    {
     "name": "stdout",
     "output_type": "stream",
     "text": [
      "{'Europe': 7, 'Asia': 5, 'Central America': 1, 'Australia': 1, 'North America': 2, 'South America': 1, 'Africa': 1}\n"
     ]
    }
   ],
   "source": [
    "'''\n",
    "1. Exercise: Counting Elements in Tuples and Dictionaries\n",
    "You are given two data structures:\n",
    "users – A list of forum users' names along with their nationalities (i.e. a list of tuples).\n",
    "nationality_to_continents – A dictionary in which nationalities are keys and continents are values.\n",
    "Ask: Create a dictionary named users_continents and use it to store the number of users for each continent in the following form:\n",
    "users_continents = {'Europe': 3, 'Asia': 4, 'North America': 2}\n",
    "Use the following data in your solution:\n",
    "'''\n",
    "\n",
    "users = [\n",
    "('Maria', 'Greek'), ('Jean', 'Maltese'),\n",
    "('Juan', 'Spanish'), ('Dima', 'Ukrainian'),\n",
    "('Agata', 'Thai'), ('Rafal', 'Polish'),\n",
    "('Diego', 'Turkish'), ('Stan', 'Panamanian'),\n",
    "('John', 'Australian'), ('Frank', 'Belgian'),\n",
    "('Jane', 'Canadian'), ('Paul', 'Argentinian'),\n",
    "('Taylor', 'Danish'), ('Kate', 'American'),\n",
    "('Mark', 'Sri Lankan'), ('Jane', 'Japanese'),\n",
    "('Ted', 'Indian'), ('Jean', 'Egyptian')\n",
    "]\n",
    " \n",
    "nationality_to_continents = {\n",
    "'Greek': 'Europe', 'Maltese': 'Europe',\n",
    "'Spanish': 'Europe', 'Ukrainian': 'Europe',\n",
    "'Thai': 'Asia', 'Polish': 'Europe',\n",
    "'Turkish': 'Asia', 'Panamanian': 'Central America',\n",
    "'Australian': 'Australia', 'Belgian': 'Europe',\n",
    "'Canadian': 'North America', 'Argentinian': 'South America',\n",
    "'Danish': 'Europe', 'American': 'North America',\n",
    "'Sri Lankan': 'Asia', 'Japanese': 'Asia',\n",
    "'Indian': 'Asia', 'Egyptian': 'Africa'\n",
    "}\n",
    "\n",
    "# Created the result dictionary\n",
    "users_continents = { }\n",
    "\n",
    "for name, nationality in users:\n",
    "    continent = nationality_to_continents.get(nationality)\n",
    "    if continent:\n",
    "        users_continents[continent] = users_continents.get(continent, 0) + 1\n",
    "\n",
    "print(users_continents)"
   ]
  },
  {
   "cell_type": "code",
   "execution_count": 3,
   "id": "0c9ee7dc-4f4c-4398-ab56-299a00189885",
   "metadata": {},
   "outputs": [
    {
     "name": "stdout",
     "output_type": "stream",
     "text": [
      "Filtered List is: [('Leslie Burton', 'HR Specialist', 2300), ('Dorothy Castillo', 'UX Designer', 3100)]\n"
     ]
    }
   ],
   "source": [
    "'''\n",
    "2. Create a funcion named remove_sql_specialists(people_list). Given a list of tuples, \n",
    "it removes people whose job titles contain the word \"SQL\" from the list. You can use the in operator to check if a \n",
    "given job title contains the word \"SQL\". Use the following data containing employee names, job titles, and salaries:\n",
    "'''\n",
    "\n",
    "def remove_sql_specialists(people_list):\n",
    "    filtered_list = []\n",
    "    for person in people_list:\n",
    "        name, job_title, salary = person\n",
    "        if \"SQL\" not in job_title:\n",
    "            filtered_list.append(person)\n",
    "    return filtered_list\n",
    "\n",
    "new_hires = [('Mark Adams', 'SQL Analyst', 4000),\n",
    "             ('Leslie Burton', 'HR Specialist', 2300),\n",
    "             ('Dorothy Castillo', 'UX Designer', 3100)]\n",
    "\n",
    "Non_SQL_Employees = remove_sql_specialists(new_hires)\n",
    "\n",
    "print(f\"Filtered List is: {Non_SQL_Employees}\")"
   ]
  },
  {
   "cell_type": "code",
   "execution_count": 1,
   "id": "e592d6e3-5ce0-44ff-a7ec-8d89d1ec2f9c",
   "metadata": {},
   "outputs": [
    {
     "name": "stdin",
     "output_type": "stream",
     "text": [
      "Enter a string:  Narasimha12345\n"
     ]
    },
    {
     "name": "stdout",
     "output_type": "stream",
     "text": [
      "Number of letters in a string: 9\n",
      "Number of digits in a string: 5\n"
     ]
    }
   ],
   "source": [
    "#3. Python program that accepts a string and calculates the number of digits and letters. [take string input from user]\n",
    "\n",
    "User_input = input(\"Enter a string: \")\n",
    "\n",
    "Letterscount = 0\n",
    "Digitscount = 0\n",
    "\n",
    "for char in User_input:\n",
    "    if char.isalpha():\n",
    "        Letterscount += 1\n",
    "    elif char.isdigit():\n",
    "        Digitscount += 1\n",
    "\n",
    "print(\"Number of letters in a string:\",  Letterscount)\n",
    "print(\"Number of digits in a string:\",  Digitscount)"
   ]
  },
  {
   "cell_type": "code",
   "execution_count": 52,
   "id": "dfa19615-9822-44d9-91e0-a5d4969e7764",
   "metadata": {},
   "outputs": [
    {
     "name": "stdout",
     "output_type": "stream",
     "text": [
      "200,202,204,206,208,220,222,224,226,228,240,242,244,246,248,260,262,264,266,268,280,282,284,286,288,400\n"
     ]
    }
   ],
   "source": [
    "'''\n",
    "4. Write a Python program to find numbers between 100 and 400 (both included) where each digit of a number is an even number. \n",
    "The numbers obtained should be printed in a comma-separated sequence.\n",
    "'''\n",
    "\n",
    "result = []\n",
    "for num in range(100,401):\n",
    "        num_str = str(num)\n",
    "        if all(int(digit) % 2 == 0 for digit in num_str):\n",
    "      \n",
    "            result.append(num_str)\n",
    "print(\",\".join(result))\n"
   ]
  },
  {
   "cell_type": "code",
   "execution_count": 53,
   "id": "be7dff59-6186-4868-9ae9-4202983c60e6",
   "metadata": {},
   "outputs": [
    {
     "name": "stdout",
     "output_type": "stream",
     "text": [
      "Enter 5 numbers:\n"
     ]
    },
    {
     "name": "stdin",
     "output_type": "stream",
     "text": [
      "Enter number 1:  2\n",
      "Enter number 2:  3\n",
      "Enter number 3:  6\n",
      "Enter number 4:  7\n",
      "Enter number 5:  4\n"
     ]
    },
    {
     "name": "stdout",
     "output_type": "stream",
     "text": [
      "The median value is: 4.0\n"
     ]
    }
   ],
   "source": [
    "#5. Write a Python program to find the median of five values\n",
    "\n",
    "numbers = []\n",
    "print(\"Enter 5 numbers:\")\n",
    "\n",
    "for i in range(5):\n",
    "    num = float(input(f\"Enter number {i+1}: \"))\n",
    "    numbers.append(num)\n",
    "\n",
    "numbers.sort()\n",
    "median = numbers[2]\n",
    "print(\"The median value is:\", median)\n"
   ]
  },
  {
   "cell_type": "code",
   "execution_count": null,
   "id": "16e69a3f-4049-452c-8f96-a8cd0803893a",
   "metadata": {},
   "outputs": [],
   "source": []
  }
 ],
 "metadata": {
  "kernelspec": {
   "display_name": "Python 3 (ipykernel)",
   "language": "python",
   "name": "python3"
  },
  "language_info": {
   "codemirror_mode": {
    "name": "ipython",
    "version": 3
   },
   "file_extension": ".py",
   "mimetype": "text/x-python",
   "name": "python",
   "nbconvert_exporter": "python",
   "pygments_lexer": "ipython3",
   "version": "3.13.5"
  }
 },
 "nbformat": 4,
 "nbformat_minor": 5
}
