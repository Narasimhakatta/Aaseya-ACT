{
 "cells": [
  {
   "cell_type": "code",
   "execution_count": 5,
   "id": "c02d9a0b-482e-493c-a90a-8bc0564d21dd",
   "metadata": {},
   "outputs": [
    {
     "name": "stdout",
     "output_type": "stream",
     "text": [
      "{'Europe': 7, 'Asia': 5, 'Central America': 1, 'Australia': 1, 'North America': 2, 'South America': 1, 'Africa': 1}\n"
     ]
    }
   ],
   "source": [
    "#Example 1\n",
    "\n",
    "users = [\n",
    "('Maria', 'Greek'), ('Jean', 'Maltese'),\n",
    "('Juan', 'Spanish'), ('Dima', 'Ukrainian'),\n",
    "('Agata', 'Thai'), ('Rafal', 'Polish'),\n",
    "('Diego', 'Turkish'), ('Stan', 'Panamanian'),\n",
    "('John', 'Australian'), ('Frank', 'Belgian'),\n",
    "('Jane', 'Canadian'), ('Paul', 'Argentinian'),\n",
    "('Taylor', 'Danish'), ('Kate', 'American'),\n",
    "('Mark', 'Sri Lankan'), ('Jane', 'Japanese'),\n",
    "('Ted', 'Indian'), ('Jean', 'Egyptian')\n",
    "]\n",
    " \n",
    "nationality_to_continents = {\n",
    "'Greek': 'Europe', 'Maltese': 'Europe',\n",
    "'Spanish': 'Europe', 'Ukrainian': 'Europe',\n",
    "'Thai': 'Asia', 'Polish': 'Europe',\n",
    "'Turkish': 'Asia', 'Panamanian': 'Central America',\n",
    "'Australian': 'Australia', 'Belgian': 'Europe',\n",
    "'Canadian': 'North America', 'Argentinian': 'South America',\n",
    "'Danish': 'Europe', 'American': 'North America',\n",
    "'Sri Lankan': 'Asia', 'Japanese': 'Asia',\n",
    "'Indian': 'Asia', 'Egyptian': 'Africa'\n",
    "}\n",
    "\n",
    "user_continants = {}\n",
    "\n",
    "for name,nationality in users:\n",
    "    continant = nationality_to_continents.get(nationality)\n",
    "    if continant:\n",
    "        user_continants[continant] = user_continants.get(continant, 0)+1\n",
    "\n",
    "print(user_continants)"
   ]
  },
  {
   "cell_type": "code",
   "execution_count": 11,
   "id": "b9755c02-d4e7-4238-b2f9-db0a59e38c56",
   "metadata": {},
   "outputs": [
    {
     "name": "stdout",
     "output_type": "stream",
     "text": [
      "Hires excluding SQL roles:\n",
      "('Leslie Burton', 'HR Specialist', 2300)\n",
      "('Dorothy Castillo', 'UX Designer', 3100)\n"
     ]
    }
   ],
   "source": [
    "#Example 2\n",
    "\n",
    "def remove_sql_specialists(people_list):\n",
    "    \n",
    "    clean_list=[]\n",
    "\n",
    "    for person in people_list:\n",
    "        name,job_title,salary = person\n",
    "\n",
    "        if \"SQL\" not in job_title:\n",
    "            clean_list.append(person)\n",
    "\n",
    "    return clean_list\n",
    "\n",
    "    \n",
    "new_hires = [('Mark Adams', 'SQL Analyst', 4000),\n",
    "             ('Leslie Burton', 'HR Specialist', 2300),\n",
    "             ('Dorothy Castillo', 'UX Designer', 3100)]\n",
    "\n",
    "filter = remove_sql_specialists(new_hires)\n",
    "\n",
    "print(\"Hires excluding SQL roles:\")\n",
    "for hire in filter:\n",
    "    print(hire)\n"
   ]
  },
  {
   "cell_type": "code",
   "execution_count": 18,
   "id": "fba84402-cae7-427e-b07a-48c75e755705",
   "metadata": {},
   "outputs": [
    {
     "name": "stdin",
     "output_type": "stream",
     "text": [
      "Enter any string Ayush123\n"
     ]
    },
    {
     "name": "stdout",
     "output_type": "stream",
     "text": [
      "Letters = 5\n",
      "Digits = 3\n"
     ]
    }
   ],
   "source": [
    "#Example 3\n",
    "\n",
    "#Method 1 with buildin function\n",
    "\n",
    "n = input(\"Enter any string :\")\n",
    "letter_count = 0\n",
    "digit_count = 0\n",
    "\n",
    "\n",
    "for char in n:\n",
    "   if char.isalpha():\n",
    "       letter_count += 1\n",
    "   elif char.isdigit():\n",
    "       digit_count += 1\n",
    "\n",
    "print(f\"Letters = {letter_count}\")\n",
    "print(f\"Digits = {digit_count}\")\n",
    "\n",
    "\n"
   ]
  },
  {
   "cell_type": "code",
   "execution_count": 27,
   "id": "0be27908-e372-449c-bb14-b36bed034f1d",
   "metadata": {},
   "outputs": [
    {
     "name": "stdin",
     "output_type": "stream",
     "text": [
      "Enter any string : Ayush12312\n"
     ]
    },
    {
     "name": "stdout",
     "output_type": "stream",
     "text": [
      "Letters: 5\n",
      "Digits: 5\n"
     ]
    }
   ],
   "source": [
    "#Method 2 Without Buildin function\n",
    "\n",
    "n = input(\"Enter any string :\")\n",
    "\n",
    "letter_count = 0\n",
    "digit_count = 0\n",
    "\n",
    "for char in n:\n",
    "    ascii_val = ord(char)\n",
    "\n",
    "    \n",
    "    if (65 <= ascii_val <= 90) or (97 <= ascii_val <= 122):\n",
    "        letter_count += 1\n",
    "   \n",
    "    elif 48 <= ascii_val <= 57:\n",
    "        digit_count += 1\n",
    "\n",
    "\n",
    "print(f\"Letters: {letter_count}\")\n",
    "print(f\"Digits: {digit_count}\")"
   ]
  },
  {
   "cell_type": "code",
   "execution_count": 25,
   "id": "2f00d3b2-6fba-40fa-8e31-af31be564a2a",
   "metadata": {},
   "outputs": [
    {
     "name": "stdout",
     "output_type": "stream",
     "text": [
      "200,202,204,206,208,220,222,224,226,228,240,242,244,246,248,260,262,264,266,268,280,282,284,286,288,400\n"
     ]
    }
   ],
   "source": [
    "#Example 4\n",
    "\n",
    "even_digit_numbers = []\n",
    "\n",
    "for number in range(100, 401):\n",
    "    str_num = str(number)\n",
    "    if (int(str_num[0]) % 2 == 0 and\n",
    "        int(str_num[1]) % 2 == 0 and\n",
    "        int(str_num[2]) % 2 == 0):\n",
    "        even_digit_numbers.append(str_num)\n",
    "\n",
    "result = ','.join(even_digit_numbers)\n",
    "print(result)\n",
    "\n"
   ]
  },
  {
   "cell_type": "code",
   "execution_count": 31,
   "id": "7ebd6025-6553-4ebe-8ef7-2d7f5021aa25",
   "metadata": {},
   "outputs": [
    {
     "name": "stdin",
     "output_type": "stream",
     "text": [
      "Enter number 1:  12\n",
      "Enter number 2:  78\n",
      "Enter number 3:  34\n",
      "Enter number 4:  90\n",
      "Enter number 5:  23\n"
     ]
    },
    {
     "name": "stdout",
     "output_type": "stream",
     "text": [
      "The median is: 34.0\n"
     ]
    }
   ],
   "source": [
    "#Example 5\n",
    "\n",
    "numbers = []\n",
    "\n",
    "for i in range(5):\n",
    "    num = float(input(f\"Enter number {i+1}: \"))\n",
    "    numbers.append(num)\n",
    "\n",
    "numbers.sort()\n",
    "median = numbers[2]\n",
    "\n",
    "print(f\"The median is: {median}\")\n"
   ]
  }
 ],
 "metadata": {
  "kernelspec": {
   "display_name": "Python 3 (ipykernel)",
   "language": "python",
   "name": "python3"
  },
  "language_info": {
   "codemirror_mode": {
    "name": "ipython",
    "version": 3
   },
   "file_extension": ".py",
   "mimetype": "text/x-python",
   "name": "python",
   "nbconvert_exporter": "python",
   "pygments_lexer": "ipython3",
   "version": "3.13.5"
  }
 },
 "nbformat": 4,
 "nbformat_minor": 5
}
