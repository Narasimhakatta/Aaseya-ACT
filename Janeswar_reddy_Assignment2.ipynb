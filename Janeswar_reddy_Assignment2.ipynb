{
 "cells": [
  {
   "cell_type": "markdown",
   "id": "7e9b8926-00d6-4a80-a0c1-b4c80db928b1",
   "metadata": {},
   "source": [
    "Write a Python program to find the median of five values.[As given by users]"
   ]
  },
  {
   "cell_type": "code",
   "execution_count": 4,
   "id": "3c9be060-d0e1-4f36-ac0b-7809691a7820",
   "metadata": {},
   "outputs": [
    {
     "name": "stdout",
     "output_type": "stream",
     "text": [
      "Enter 5 numbers:\n"
     ]
    },
    {
     "name": "stdin",
     "output_type": "stream",
     "text": [
      "Number 1:  3\n",
      "Number 2:  99\n",
      "Number 3:  89\n",
      "Number 4:  78\n",
      "Number 5:  76\n"
     ]
    },
    {
     "name": "stdout",
     "output_type": "stream",
     "text": [
      "\n",
      "The median is: 78.0\n"
     ]
    }
   ],
   "source": [
    "numbers = []\n",
    "\n",
    "print(\"Enter 5 numbers:\")\n",
    "for i in range(5):\n",
    "    num = float(input(f\"Number {i+1}: \"))\n",
    "    numbers.append(num)\n",
    "numbers.sort()\n",
    "median = numbers[2] \n",
    "print(f\"\\nThe median is: {median}\")\n"
   ]
  },
  {
   "cell_type": "markdown",
   "id": "6f08b6d8-18be-4b9f-9aa4-f27a44689ec6",
   "metadata": {},
   "source": [
    "Python program that accepts a string and calculates the number of digits and letters. [take string input from user]\n",
    "Example: Aaseya12345 "
   ]
  },
  {
   "cell_type": "code",
   "execution_count": 3,
   "id": "18d9130d-1f4d-410f-82b4-d13743182046",
   "metadata": {},
   "outputs": [
    {
     "name": "stdin",
     "output_type": "stream",
     "text": [
      "Enter a string:  Aaseya@12\n"
     ]
    },
    {
     "name": "stdout",
     "output_type": "stream",
     "text": [
      "Letters: 6\n",
      "Digits: 2\n"
     ]
    }
   ],
   "source": [
    "\n",
    "user_input = input(\"Enter a string: \")\n",
    "letter_count = 0\n",
    "digit_count = 0\n",
    "for char in user_input:\n",
    "    if char.isalpha():\n",
    "        letter_count += 1\n",
    "    elif char.isdigit():\n",
    "        digit_count += 1\n",
    "print(f\"Letters: {letter_count}\")\n",
    "print(f\"Digits: {digit_count}\")\n"
   ]
  },
  {
   "cell_type": "markdown",
   "id": "95cb30b4-cda1-4b2f-93cb-0a1880518519",
   "metadata": {},
   "source": [
    " Create a funcion named remove_sql_specialists(people_list). Given a list of tuples, \n",
    "it removes people whose job titles contain the word \"SQL\" from the list. You can use the in operator to check if a \n",
    "given job title contains the word \"SQL\". Use the following data containing employee names, job titles, and salaries:\n",
    "\n",
    "new_hires = [('Mark Adams', 'SQL Analyst', 4000),\n",
    "             ('Leslie Burton', 'HR Specialist', 2300),\n",
    "             ('Dorothy Castillo', 'UX Designer', 3100)]"
   ]
  },
  {
   "cell_type": "code",
   "execution_count": 7,
   "id": "c2512eb6-a58f-4748-9c06-5fa5e13b32dd",
   "metadata": {},
   "outputs": [
    {
     "name": "stdout",
     "output_type": "stream",
     "text": [
      "Original List:\n",
      "[('Mark Adams', 'SQL Analyst', 4000), ('Leslie Burton', 'HR Specialist', 2300), ('Dorothy Castillo', 'UX Designer', 3100)]\n",
      "\n",
      "List after removing SQL specialists:\n",
      "[('Leslie Burton', 'HR Specialist', 2300), ('Dorothy Castillo', 'UX Designer', 3100)]\n"
     ]
    }
   ],
   "source": [
    "def remove_sql_specialists(people_list):\n",
    "\n",
    "  filtered_list = []\n",
    "  for person in people_list:\n",
    "    job_title = person[1]\n",
    "    if \"SQL\" not in job_title:\n",
    "      filtered_list.append(person)\n",
    "  return filtered_list\n",
    "\n",
    "new_hires = [('Mark Adams', 'SQL Analyst', 4000),\n",
    "             ('Leslie Burton', 'HR Specialist', 2300),\n",
    "             ('Dorothy Castillo', 'UX Designer', 3100)]\n",
    "\n",
    "non_sql_hires = remove_sql_specialists(new_hires)\n",
    "\n",
    "print(\"Original List:\")\n",
    "print(new_hires)\n",
    "print(\"\\nList after removing SQL specialists:\")\n",
    "print(non_sql_hires)"
   ]
  },
  {
   "cell_type": "code",
   "execution_count": 8,
   "id": "7ac4cc95-6f35-4c13-bcb9-c6c3e2356c8e",
   "metadata": {},
   "outputs": [
    {
     "name": "stdout",
     "output_type": "stream",
     "text": [
      "{'Europe': 7, 'Asia': 5, 'Central America': 1, 'Australia': 1, 'North America': 2, 'South America': 1, 'Africa': 1}\n"
     ]
    }
   ],
   "source": [
    "users = [\n",
    "    ('Maria', 'Greek'), ('Jean', 'Maltese'),\n",
    "    ('Juan', 'Spanish'), ('Dima', 'Ukrainian'),\n",
    "    ('Agata', 'Thai'), ('Rafal', 'Polish'),\n",
    "    ('Diego', 'Turkish'), ('Stan', 'Panamanian'),\n",
    "    ('John', 'Australian'), ('Frank', 'Belgian'),\n",
    "    ('Jane', 'Canadian'), ('Paul', 'Argentinian'),\n",
    "    ('Taylor', 'Danish'), ('Kate', 'American'),\n",
    "    ('Mark', 'Sri Lankan'), ('Jane', 'Japanese'),\n",
    "    ('Ted', 'Indian'), ('Jean', 'Egyptian')\n",
    "]\n",
    "\n",
    "nationality_to_continents = {\n",
    "    'Greek': 'Europe', 'Maltese': 'Europe',\n",
    "    'Spanish': 'Europe', 'Ukrainian': 'Europe',\n",
    "    'Thai': 'Asia', 'Polish': 'Europe',\n",
    "    'Turkish': 'Asia', 'Panamanian': 'Central America',\n",
    "    'Australian': 'Australia', 'Belgian': 'Europe',\n",
    "    'Canadian': 'North America', 'Argentinian': 'South America',\n",
    "    'Danish': 'Europe', 'American': 'North America',\n",
    "    'Sri Lankan': 'Asia', 'Japanese': 'Asia',\n",
    "    'Indian': 'Asia', 'Egyptian': 'Africa'\n",
    "}\n",
    "\n",
    "users_continents = {}\n",
    "\n",
    "for name, nationality in users:\n",
    "    continent = nationality_to_continents.get(nationality)\n",
    "    if continent:\n",
    "        users_continents[continent] = users_continents.get(continent, 0) + 1\n",
    "\n",
    "print(users_continents)"
   ]
  },
  {
   "cell_type": "code",
   "execution_count": null,
   "id": "6bc3f17a-79e3-473f-9665-d99c3ae78c96",
   "metadata": {},
   "outputs": [],
   "source": []
  }
 ],
 "metadata": {
  "kernelspec": {
   "display_name": "Python 3 (ipykernel)",
   "language": "python",
   "name": "python3"
  },
  "language_info": {
   "codemirror_mode": {
    "name": "ipython",
    "version": 3
   },
   "file_extension": ".py",
   "mimetype": "text/x-python",
   "name": "python",
   "nbconvert_exporter": "python",
   "pygments_lexer": "ipython3",
   "version": "3.12.7"
  }
 },
 "nbformat": 4,
 "nbformat_minor": 5
}
