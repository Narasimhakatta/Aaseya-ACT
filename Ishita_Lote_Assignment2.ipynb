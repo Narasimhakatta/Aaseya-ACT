{
 "cells": [
  {
   "cell_type": "code",
   "execution_count": 2,
   "id": "6a7e86d9-cfc8-4402-960c-4d5fbf684e19",
   "metadata": {},
   "outputs": [
    {
     "name": "stdout",
     "output_type": "stream",
     "text": [
      "{'Europe': 7, 'Asia': 5, 'Central America': 1, 'Australia': 1, 'North America': 2, 'South America': 1, 'Africa': 1}\n"
     ]
    }
   ],
   "source": [
    "users = [\n",
    "    ('Maria', 'Greek'), ('Jean', 'Maltese'),\n",
    "    ('Juan', 'Spanish'), ('Dima', 'Ukrainian'),\n",
    "    ('Agata', 'Thai'), ('Rafal', 'Polish'),\n",
    "    ('Diego', 'Turkish'), ('Stan', 'Panamanian'),\n",
    "    ('John', 'Australian'), ('Frank', 'Belgian'),\n",
    "    ('Jane', 'Canadian'), ('Paul', 'Argentinian'),\n",
    "    ('Taylor', 'Danish'), ('Kate', 'American'),\n",
    "    ('Mark', 'Sri Lankan'), ('Jane', 'Japanese'),\n",
    "    ('Ted', 'Indian'), ('Jean', 'Egyptian')\n",
    "]\n",
    " \n",
    "nationality_to_continents = {\n",
    "    'Greek': 'Europe', 'Maltese': 'Europe',\n",
    "    'Spanish': 'Europe', 'Ukrainian': 'Europe',\n",
    "    'Thai': 'Asia', 'Polish': 'Europe',\n",
    "    'Turkish': 'Asia', 'Panamanian': 'Central America',\n",
    "    'Australian': 'Australia', 'Belgian': 'Europe',\n",
    "    'Canadian': 'North America', 'Argentinian': 'South America',\n",
    "    'Danish': 'Europe', 'American': 'North America',\n",
    "    'Sri Lankan': 'Asia', 'Japanese': 'Asia',\n",
    "    'Indian': 'Asia', 'Egyptian': 'Africa'\n",
    "}\n",
    " \n",
    "users_continents = {}\n",
    " \n",
    "for name, nationality in users:\n",
    "    continent = nationality_to_continents.get(nationality)\n",
    "    if continent:\n",
    "        users_continents[continent] = users_continents.get(continent, 0) + 1\n",
    "print(users_continents)"
   ]
  },
  {
   "cell_type": "code",
   "execution_count": 1,
   "id": "f54b0c46-44f3-428e-9472-28df84d6745f",
   "metadata": {},
   "outputs": [
    {
     "name": "stdout",
     "output_type": "stream",
     "text": [
      "filtered new hires: [('Leslie Burton', 'HR Specialist', 2300), ('Dorothy Castillo', 'UX Designer', 3100)]\n"
     ]
    }
   ],
   "source": [
    "def remove_sql_specialists(people_list):\n",
    "    return [person for person in people_list if \"SQL\" not in person[1]]\n",
    "\n",
    "new_hires = [('Mark Adams', 'SQL Analyst', 4000),\n",
    "             ('Leslie Burton', 'HR Specialist', 2300),\n",
    "             ('Dorothy Castillo', 'UX Designer', 3100)]\n",
    "\n",
    "filtered_hires = remove_sql_specialists(new_hires)\n",
    "print(\"filtered new hires:\",filtered_hires)"
   ]
  },
  {
   "cell_type": "code",
   "execution_count": 2,
   "id": "69435ebe-5fbb-4de2-a86a-2f10aec0b25d",
   "metadata": {},
   "outputs": [
    {
     "name": "stdin",
     "output_type": "stream",
     "text": [
      "Enter a string:  Aaseya12345\n"
     ]
    },
    {
     "name": "stdout",
     "output_type": "stream",
     "text": [
      "Letter: 6\n",
      "Digit: 5\n"
     ]
    }
   ],
   "source": [
    "input_str = input(\"Enter a string: \")\n",
    "letters = sum(char.isalpha() for char in input_str)\n",
    "digits = sum(char.isdigit() for char in input_str)\n",
    "print(f\"Letter: {letters}\")\n",
    "print(f\"Digit: {digits}\")"
   ]
  },
  {
   "cell_type": "code",
   "execution_count": 13,
   "id": "412a5e8d-da01-4ee5-b3f2-9b12124eb3fc",
   "metadata": {},
   "outputs": [
    {
     "name": "stdout",
     "output_type": "stream",
     "text": [
      "200,202,204,206,208,220,222,224,226,228,240,242,244,246,248,260,262,264,266,268,280,282,284,286,288,400\n"
     ]
    }
   ],
   "source": [
    "even_digit_numbers = []\n",
    " \n",
    " \n",
    "for num in range(100, 401):\n",
    "    num_str = str(num)\n",
    "    if all(int(digit) % 2 == 0 for digit in num_str):\n",
    "        even_digit_numbers.append(num_str)\n",
    " \n",
    "print(\",\".join(even_digit_numbers))"
   ]
  },
  {
   "cell_type": "code",
   "execution_count": 14,
   "id": "70b22a57-132a-4073-903e-602a8e129ddb",
   "metadata": {},
   "outputs": [
    {
     "name": "stdout",
     "output_type": "stream",
     "text": [
      "Enter 5 numbers:\n"
     ]
    },
    {
     "name": "stdin",
     "output_type": "stream",
     "text": [
      "Number 1:  20\n",
      "Number 2:  50\n",
      "Number 3:  80\n",
      "Number 4:  4\n",
      "Number 5:  99\n"
     ]
    },
    {
     "name": "stdout",
     "output_type": "stream",
     "text": [
      "The median is: 50.0\n"
     ]
    }
   ],
   "source": [
    "numbers = []\n",
    " \n",
    "print(\"Enter 5 numbers:\")\n",
    "for i in range(5):\n",
    "    num = float(input(f\"Number {i+1}: \"))\n",
    "    numbers.append(num)\n",
    " \n",
    "numbers.sort()\n",
    " \n",
    "median = numbers[2]  \n",
    " \n",
    "print(\"The median is:\", median)"
   ]
  },
  {
   "cell_type": "code",
   "execution_count": null,
   "id": "d7b5622b-cc5d-49e1-96b5-762651e386dc",
   "metadata": {},
   "outputs": [],
   "source": []
  }
 ],
 "metadata": {
  "kernelspec": {
   "display_name": "Python 3 (ipykernel)",
   "language": "python",
   "name": "python3"
  },
  "language_info": {
   "codemirror_mode": {
    "name": "ipython",
    "version": 3
   },
   "file_extension": ".py",
   "mimetype": "text/x-python",
   "name": "python",
   "nbconvert_exporter": "python",
   "pygments_lexer": "ipython3",
   "version": "3.12.7"
  }
 },
 "nbformat": 4,
 "nbformat_minor": 5
}
